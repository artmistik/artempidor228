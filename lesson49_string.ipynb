{
 "cells": [
  {
   "cell_type": "markdown",
   "metadata": {},
   "source": [
    "Завдання 1. Створіть програму, яка виводить наступне текстове повідомлення:\n",
    "\n",
    "```О п'ятій годині розпочнеться гра між \"Шахтарем\" та \"Ворсклою\"```"
   ]
  },
  {
   "cell_type": "code",
   "execution_count": null,
   "metadata": {},
   "outputs": [],
   "source": []
  },
  {
   "cell_type": "markdown",
   "metadata": {},
   "source": [
    "Завдання 2. Дане повідомлення:\n",
    "\n",
    "```Хмари-розбишаки не дають спокою степу ані на хвилину.```\n",
    "\n",
    "Знайдіть:\n",
    "* кількість символів у повідомленні\n",
    "* символ десятої літери у повідомленні"
   ]
  },
  {
   "cell_type": "code",
   "execution_count": null,
   "metadata": {},
   "outputs": [],
   "source": []
  },
  {
   "cell_type": "markdown",
   "metadata": {},
   "source": [
    "Завдання 3. Дане повідомлення:\n",
    "\n",
    "```Квадрат гіпотенузи прямокутного трикутника дорівнює сумі квадратів його катетів.```\n",
    "\n",
    "Виведіть:\n",
    "* перші 2 слова\n",
    "* останні 2 слова (без крапки)\n",
    "* кожен 3-й символ повідомлення\n",
    "* все повідомлення задом наперед"
   ]
  },
  {
   "cell_type": "code",
   "execution_count": null,
   "metadata": {},
   "outputs": [],
   "source": []
  },
  {
   "cell_type": "markdown",
   "metadata": {},
   "source": [
    "Завдання 4. Визначте, чи є у повідомленні ```Під час тривалої повітряної тривоги учні ліцею повинні дотримуватися правил безпеки.``` послідовність ```три```. Зробіть це трьома способами. "
   ]
  },
  {
   "cell_type": "code",
   "execution_count": null,
   "metadata": {},
   "outputs": [],
   "source": []
  },
  {
   "cell_type": "markdown",
   "metadata": {},
   "source": [
    "Завдання 5. Дані три величини - дві рядкові (a, b) й одна цілочисельна (c):\n",
    "```python\n",
    "a = \"Я отримала \"\n",
    "b = \" балів\"\n",
    "c = 12\n",
    "```\n",
    "Виконайте операцію конкатенації рядків, щоб отримати наступне повідомлення з даних змінних:\n",
    "\n",
    "```Я отримала 12 балів```"
   ]
  },
  {
   "cell_type": "code",
   "execution_count": null,
   "metadata": {},
   "outputs": [],
   "source": []
  },
  {
   "cell_type": "markdown",
   "metadata": {},
   "source": [
    "Завдання 6. У повідомленні ```Я отримала 12 балів``` замініть ```12 балів``` на ```Нобелевську премію```"
   ]
  },
  {
   "cell_type": "code",
   "execution_count": 7,
   "metadata": {},
   "outputs": [],
   "source": []
  },
  {
   "cell_type": "markdown",
   "metadata": {},
   "source": [
    "Завдання 7. Виведіть наступне повідомлення однією командою ```print()```:\n",
    "```text\n",
    "Як умру, то поховайте\n",
    "Мене на могилі,\n",
    "Серед степу широкого,\n",
    "На Вкраїні милій,\n",
    "Щоб лани широкополі,\n",
    "І Дніпро, і кручі\n",
    "Було видно, було чути,\n",
    "Як реве ревучий.\n",
    "```\n"
   ]
  },
  {
   "cell_type": "code",
   "execution_count": null,
   "metadata": {},
   "outputs": [],
   "source": []
  }
 ],
 "metadata": {
  "kernelspec": {
   "display_name": ".venv",
   "language": "python",
   "name": "python3"
  },
  "language_info": {
   "codemirror_mode": {
    "name": "ipython",
    "version": 3
   },
   "file_extension": ".py",
   "mimetype": "text/x-python",
   "name": "python",
   "nbconvert_exporter": "python",
   "pygments_lexer": "ipython3",
   "version": "3.12.1"
  }
 },
 "nbformat": 4,
 "nbformat_minor": 2
}
