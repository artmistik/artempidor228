{
 "cells": [
  {
   "cell_type": "markdown",
   "metadata": {},
   "source": [
    "Завдання 1. Створіть програму, яка виводить наступне текстове повідомлення:\n",
    "\n",
    "```О п'ятій годині розпочнеться гра між \"Шахтарем\" та \"Ворсклою\"```"
   ]
  },
  {
   "cell_type": "code",
   "execution_count": 3,
   "metadata": {},
   "outputs": [
    {
     "name": "stdout",
     "output_type": "stream",
     "text": [
      "О п'ятій годині розпочнеться гра між \"Шахтарем\" та \"Ворсклою\"\n"
     ]
    }
   ],
   "source": [
    "print(\"О п'ятій годині розпочнеться гра між \\\"Шахтарем\\\" та \\\"Ворсклою\\\"\")\n"
   ]
  },
  {
   "cell_type": "markdown",
   "metadata": {},
   "source": [
    "Завдання 2. Дане повідомлення:\n",
    "\n",
    "```Хмари-розбишаки не дають спокою степу ані на хвилину.```\n",
    "\n",
    "Знайдіть:\n",
    "* кількість символів у повідомленні\n",
    "* символ десятої літери у повідомленні"
   ]
  },
  {
   "cell_type": "code",
   "execution_count": 4,
   "metadata": {},
   "outputs": [
    {
     "name": "stdout",
     "output_type": "stream",
     "text": [
      "53\n",
      "б\n"
     ]
    }
   ],
   "source": [
    "message = \"Хмари-розбишаки не дають спокою степу ані на хвилину.\"\n",
    "\n",
    "length = len(message)\n",
    "print(length)\n",
    "\n",
    "tenth_character = message[9]\n",
    "print(tenth_character)\n"
   ]
  },
  {
   "cell_type": "markdown",
   "metadata": {},
   "source": [
    "Завдання 3. Дане повідомлення:\n",
    "\n",
    "```Квадрат гіпотенузи прямокутного трикутника дорівнює сумі квадратів його катетів.```\n",
    "\n",
    "Виведіть:\n",
    "* перші 2 слова\n",
    "* останні 2 слова (без крапки)\n",
    "* кожен 3-й символ повідомлення\n",
    "* все повідомлення задом наперед"
   ]
  },
  {
   "cell_type": "code",
   "execution_count": 5,
   "metadata": {},
   "outputs": [
    {
     "name": "stdout",
     "output_type": "stream",
     "text": [
      "Квадрат гіпотенузи\n",
      "його\n",
      "аагониротгткнаовєу ааво ті\n",
      ".вітетак огой вітардавк імус єюнвірод акинтукирт огонтукомярп изунетопіг тардавК\n"
     ]
    }
   ],
   "source": [
    "message = \"Квадрат гіпотенузи прямокутного трикутника дорівнює сумі квадратів його катетів.\"\n",
    "\n",
    "first_two_words = message.split()[:2]\n",
    "print(' '.join(first_two_words))\n",
    "\n",
    "last_two_words = message.split()[-2].rstrip('.')\n",
    "print(last_two_words)\n",
    "\n",
    "every_third_character = message[2::3]\n",
    "print(every_third_character)\n",
    "\n",
    "reversed_message = message[::-1]\n",
    "print(reversed_message)\n"
   ]
  },
  {
   "cell_type": "markdown",
   "metadata": {},
   "source": [
    "Завдання 4. Визначте, чи є у повідомленні ```Під час тривалої повітряної тривоги учні ліцею повинні дотримуватися правил безпеки.``` послідовність ```три```. Зробіть це трьома способами. "
   ]
  },
  {
   "cell_type": "code",
   "execution_count": 8,
   "metadata": {},
   "outputs": [
    {
     "name": "stdout",
     "output_type": "stream",
     "text": [
      "Послідовність 'три' знайдена.\n"
     ]
    }
   ],
   "source": [
    "message = \"Під час тривалої повітряної тривоги учні ліцею повинні дотримуватися правил безпеки.\"\n",
    "\n",
    "if \"три\" in message:\n",
    "    print(\"Послідовність 'три' знайдена.\")\n",
    "else:\n",
    "    print(\"Послідовність 'три' не знайдена.\")\n"
   ]
  },
  {
   "cell_type": "markdown",
   "metadata": {},
   "source": [
    "Завдання 5. Дані три величини - дві рядкові (a, b) й одна цілочисельна (c):\n",
    "```python\n",
    "a = \"Я отримала \"\n",
    "b = \" балів\"\n",
    "c = 12\n",
    "```\n",
    "Виконайте операцію конкатенації рядків, щоб отримати наступне повідомлення з даних змінних:\n",
    "\n",
    "```Я отримала 12 балів```"
   ]
  },
  {
   "cell_type": "code",
   "execution_count": 7,
   "metadata": {},
   "outputs": [
    {
     "name": "stdout",
     "output_type": "stream",
     "text": [
      "Я отримала 12 балів\n"
     ]
    }
   ],
   "source": [
    "a = \"Я отримала \"\n",
    "b = \" балів\"\n",
    "c = 12\n",
    "\n",
    "result = a + str(c) + b\n",
    "print(result)\n"
   ]
  },
  {
   "cell_type": "markdown",
   "metadata": {},
   "source": [
    "Завдання 6. У повідомленні ```Я отримала 12 балів``` замініть ```12 балів``` на ```Нобелевську премію```"
   ]
  },
  {
   "cell_type": "code",
   "execution_count": 6,
   "metadata": {},
   "outputs": [
    {
     "name": "stdout",
     "output_type": "stream",
     "text": [
      "Я отримала Нобелевську премію\n"
     ]
    }
   ],
   "source": [
    "message = \"Я отримала 12 балів\"\n",
    "replacement = \"Нобелевську премію\"\n",
    "\n",
    "result = message.replace(\"12 балів\", replacement)\n",
    "print(result)\n"
   ]
  },
  {
   "cell_type": "markdown",
   "metadata": {},
   "source": [
    "Завдання 7. Виведіть наступне повідомлення однією командою ```print()```:\n",
    "```text\n",
    "Як умру, то поховайте\n",
    "Мене на могилі,\n",
    "Серед степу широкого,\n",
    "На Вкраїні милій,\n",
    "Щоб лани широкополі,\n",
    "І Дніпро, і кручі\n",
    "Було видно, було чути,\n",
    "Як реве ревучий.\n",
    "```\n"
   ]
  },
  {
   "cell_type": "code",
   "execution_count": 9,
   "metadata": {},
   "outputs": [
    {
     "name": "stdout",
     "output_type": "stream",
     "text": [
      "Як умру, то поховайте\n",
      "Мене на могилі,\n",
      "Серед степу широкого,\n",
      "На Вкраїні милій,\n",
      "Щоб лани широкополі,\n",
      "І Дніпро, і кручі\n",
      "Було видно, було чути,\n",
      "Як реве ревучий.\n"
     ]
    }
   ],
   "source": [
    "print(\"\"\"Як умру, то поховайте\n",
    "Мене на могилі,\n",
    "Серед степу широкого,\n",
    "На Вкраїні милій,\n",
    "Щоб лани широкополі,\n",
    "І Дніпро, і кручі\n",
    "Було видно, було чути,\n",
    "Як реве ревучий.\"\"\")\n"
   ]
  }
 ],
 "metadata": {
  "kernelspec": {
   "display_name": ".venv",
   "language": "python",
   "name": "python3"
  },
  "language_info": {
   "codemirror_mode": {
    "name": "ipython",
    "version": 3
   },
   "file_extension": ".py",
   "mimetype": "text/x-python",
   "name": "python",
   "nbconvert_exporter": "python",
   "pygments_lexer": "ipython3",
   "version": "3.12.1"
  }
 },
 "nbformat": 4,
 "nbformat_minor": 2
}
